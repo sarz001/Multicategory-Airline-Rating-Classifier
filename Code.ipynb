{
  "cells": [
    {
      "cell_type": "markdown",
      "metadata": {
        "id": "usboI-xKryaM"
      },
      "source": [
        "# hackathon"
      ]
    },
    {
      "cell_type": "code",
      "execution_count": 2,
      "metadata": {
        "id": "YiR2gkDKRIkZ"
      },
      "outputs": [],
      "source": [
        "import pandas as pd\n",
        "import numpy as np"
      ]
    },
    {
      "cell_type": "code",
      "execution_count": null,
      "metadata": {
        "colab": {
          "base_uri": "https://localhost:8080/",
          "height": 713
        },
        "collapsed": true,
        "id": "pzUh38x4r225",
        "outputId": "ea8f098c-4cb0-45da-c7ed-15c2428f4e62"
      },
      "outputs": [],
      "source": [
        "airline_df = pd.read_csv('/content/airline.csv')\n",
        "print(\"Airline Data:\")\n",
        "airline_df.head()\n",
        "# print(airline_df.columns)\n",
        "# airline_df.shape"
      ]
    },
    {
      "cell_type": "markdown",
      "metadata": {
        "id": "Fiq7_9xbSZbT"
      },
      "source": [
        "In this code i have selected the statment form content column and then filtered them to get independent words. then calculted probability of all p(w1/r), p(w2/r) , p(w3/r)...p(wn/r).\n",
        "And then stored all the probabilities of all the probability value of each word with each rating into dictionary, for all the rating types\n"
      ]
    },
    {
      "cell_type": "code",
      "execution_count": null,
      "metadata": {
        "colab": {
          "base_uri": "https://localhost:8080/"
        },
        "id": "-RIDx2m7zn40",
        "outputId": "84528793-155f-4c29-db20-916ada251cb0"
      },
      "outputs": [],
      "source": [
        "import nltk\n",
        "from nltk.corpus import stopwords\n",
        "import string\n",
        "import pickle\n",
        "\n",
        "\n",
        "nltk.download('stopwords')\n",
        "\n",
        "rating_columns = ['overall_rating', 'seat_comfort_rating', 'cabin_staff_rating',\n",
        "                  'food_beverages_rating', 'inflight_entertainment_rating',\n",
        "                  'value_money_rating']\n",
        "\n",
        "stop_words = set(stopwords.words('english'))\n",
        "\n",
        "def preprocess_text(text):\n",
        "\n",
        "    text = text.translate(str.maketrans('', '', string.punctuation))\n",
        "\n",
        "    words = text.lower().split()\n",
        "    words = [word for word in words if word not in stop_words]\n",
        "    return words\n",
        "\n",
        "p_r = {}\n",
        "p_w_given_r = {}\n",
        "word_counts_per_rating = {}\n",
        "total_word_counts_per_rating = {}\n",
        "vocabulary = set()\n",
        "\n",
        "total_documents = 0\n",
        "rating_counts = {}\n",
        "\n",
        "for rating_column in rating_columns:\n",
        "    print(f\"Processing rating category: {rating_column}\")\n",
        "\n",
        "    rating_counts = {}\n",
        "    word_counts_per_rating = {}\n",
        "    total_word_counts_per_rating = {}\n",
        "    vocabulary = set()\n",
        "    total_documents = 0\n",
        "\n",
        "    for index, row in airline_df.iterrows():\n",
        "        content = str(row['content'])\n",
        "        words = preprocess_text(content)\n",
        "\n",
        "        try:\n",
        "            rating_value = int(row[rating_column])\n",
        "        except (ValueError, TypeError):\n",
        "            continue\n",
        "\n",
        "        total_documents += 1\n",
        "        rating_counts[rating_value] = rating_counts.get(rating_value, 0) + 1\n",
        "        word_counts = word_counts_per_rating.get(rating_value, {})\n",
        "        total_word_counts_per_rating[rating_value] = total_word_counts_per_rating.get(rating_value, 0) + len(words)\n",
        "\n",
        "        for word in words:\n",
        "            vocabulary.add(word)\n",
        "            word_counts[word] = word_counts.get(word, 0) + 1\n",
        "\n",
        "        word_counts_per_rating[rating_value] = word_counts\n",
        "\n",
        "    p_r[rating_column] = {}\n",
        "    for rating in rating_counts:\n",
        "        p_r[rating_column][rating] = rating_counts[rating] / total_documents\n",
        "\n",
        "    p_w_given_r[rating_column] = {}\n",
        "    for rating in rating_counts:\n",
        "        word_counts = word_counts_per_rating[rating]\n",
        "        total_words = total_word_counts_per_rating[rating]\n",
        "        p_w_given_r[rating_column][rating] = {}\n",
        "        for word in vocabulary:\n",
        "\n",
        "            word_count = word_counts.get(word, 0) + 1\n",
        "            total_words_smooth = total_words + len(vocabulary)\n",
        "            p_w_given_r[rating_column][rating][word] = word_count / total_words_smooth\n",
        "\n",
        "    with open(f'p_r_{rating_column}.pkl', 'wb') as f:\n",
        "        pickle.dump(p_r[rating_column], f)\n",
        "    with open(f'p_w_given_r_{rating_column}.pkl', 'wb') as f:\n",
        "        pickle.dump(p_w_given_r[rating_column], f)\n",
        "    with open(f'vocabulary_{rating_column}.pkl', 'wb') as f:\n",
        "        pickle.dump(vocabulary, f)\n",
        "\n",
        "    print(f\"Completed processing for {rating_column}\")\n",
        "\n",
        "print(\"Training phase completed.\")\n"
      ]
    },
    {
      "cell_type": "markdown",
      "metadata": {
        "id": "25WXipllVnYl"
      },
      "source": [
        "# Prediction"
      ]
    },
    {
      "cell_type": "markdown",
      "metadata": {
        "id": "iIUIcHuuUZJB"
      },
      "source": [
        "used p(r/w1...w2) = p(w1/r)p(w2/r)....p(wn/r)/p(w1)p(w2)...p(wn).\n",
        "the answer will be the rating with highest probability using argmax."
      ]
    },
    {
      "cell_type": "code",
      "execution_count": null,
      "metadata": {
        "id": "IpjSx_yWU1S2"
      },
      "outputs": [],
      "source": [
        "import numpy as np\n",
        "import pickle\n",
        "import nltk\n",
        "from nltk.corpus import stopwords\n",
        "import string\n",
        "\n",
        "nltk.download('stopwords')\n",
        "\n",
        "stop_words = set(stopwords.words('english'))\n",
        "\n",
        "def preprocess_text(text):\n",
        "    text = text.translate(str.maketrans('', '', string.punctuation))\n",
        "\n",
        "    words = text.lower().split()\n",
        "    words = [word for word in words if word not in stop_words]\n",
        "    return words\n",
        "\n",
        "def calculate_rating_for_category(user_input, rating_column):\n",
        "\n",
        "    with open(f'p_r_{rating_column}.pkl', 'rb') as f:\n",
        "        p_r_category = pickle.load(f)\n",
        "    with open(f'p_w_given_r_{rating_column}.pkl', 'rb') as f:\n",
        "        p_w_given_r_category = pickle.load(f)\n",
        "    with open(f'vocabulary_{rating_column}.pkl', 'rb') as f:\n",
        "        vocabulary = pickle.load(f)\n",
        "\n",
        "    words = preprocess_text(user_input)\n",
        "\n",
        "    log_probabilities = {}\n",
        "\n",
        "    for rating in p_r_category.keys():\n",
        "\n",
        "        log_prob = np.log(p_r_category[rating])\n",
        "\n",
        "        for word in words:\n",
        "\n",
        "            if word in vocabulary:\n",
        "\n",
        "                p_w_given_r_value = p_w_given_r_category[rating].get(word, 1 / (len(vocabulary)))\n",
        "            else:\n",
        "\n",
        "                p_w_given_r_value = 1 / (len(vocabulary))\n",
        "\n",
        "            log_prob += np.log(p_w_given_r_value)\n",
        "\n",
        "        log_probabilities[rating] = log_prob\n",
        "\n",
        "    predicted_rating = max(log_probabilities, key=log_probabilities.get)\n",
        "\n",
        "    return predicted_rating\n",
        "\n",
        "user_input = input(\"Please enter your review or statement about the flight: \")\n",
        "\n",
        "predicted_ratings = {}\n",
        "for rating_column in rating_columns:\n",
        "    predicted_ratings[rating_column] = calculate_rating_for_category(user_input, rating_column)\n",
        "\n",
        "for category, rating in predicted_ratings.items():\n",
        "    print(f\"Predicted {category.replace('_', ' ').title()}: {rating}\")\n"
      ]
    }
  ],
  "metadata": {
    "accelerator": "TPU",
    "colab": {
      "gpuType": "V28",
      "provenance": []
    },
    "kernelspec": {
      "display_name": "Python 3",
      "name": "python3"
    },
    "language_info": {
      "name": "python"
    }
  },
  "nbformat": 4,
  "nbformat_minor": 0
}
